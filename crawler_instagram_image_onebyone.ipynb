{
 "cells": [
  {
   "cell_type": "code",
   "execution_count": 27,
   "metadata": {
    "collapsed": false
   },
   "outputs": [],
   "source": [
    "import urllib2\n",
    "from urlparse import urlsplit\n",
    "from os.path import basename\n",
    "from bs4 import BeautifulSoup\n",
    "from selenium import webdriver\n",
    "import base64\n",
    "import time \n",
    "from selenium.webdriver.common.keys import Keys\n",
    "from selenium.webdriver.common import alert"
   ]
  },
  {
   "cell_type": "code",
   "execution_count": 2,
   "metadata": {
    "collapsed": true
   },
   "outputs": [],
   "source": [
    "def imagedownload(x):\n",
    "    url = x.findAll('img')\n",
    "\n",
    "    for imgTag in url:\n",
    "        imgUrl = imgTag['src']\n",
    "\n",
    "        try:\n",
    "            imgData = urllib2.urlopen(imgUrl).read()\n",
    "            fileName = basename(urlsplit(imgUrl)[2])\n",
    "            output = open(\"C:\\Users\\hapro\\Desktop\\crawler\\%s\"%fileName,'wb') # 저장장소 설정 및 filename\n",
    "            output.write(imgData)\n",
    "            output.close()\n",
    "\n",
    "        except Exception,e:\n",
    "            print e\n",
    "        pass"
   ]
  },
  {
   "cell_type": "code",
   "execution_count": 58,
   "metadata": {
    "collapsed": true
   },
   "outputs": [],
   "source": [
    "def str_to_int(x):\n",
    "    if \",\" in x:\n",
    "        y = x.split(\",\")\n",
    "        Y = int(y[0]+y[1])\n",
    "        return Y\n",
    "    else:\n",
    "        return int(x)"
   ]
  },
  {
   "cell_type": "code",
   "execution_count": 67,
   "metadata": {
    "collapsed": true
   },
   "outputs": [],
   "source": [
    "# Id, Password, Keyword, 검색 후 몇번째\n",
    "\n",
    "def get_image_instagram(Id,Password,Keyword,m):\n",
    "\n",
    "    Keyword = Keyword.decode('utf-8')\n",
    "    driver = webdriver.Chrome(executable_path=r\"C:\\Users\\hapro\\Desktop\\crawler\\chromedriver_win32\\chromedriver.exe\")\n",
    "    driver.implicitly_wait(3)\n",
    "    driver.get('https://www.instagram.com/')\n",
    "    driver.find_element_by_xpath('//*[@id=\"react-root\"]/section/main/article/div[2]/div[2]/p/a').click()\n",
    "    driver.find_element_by_xpath('//*[@id=\"react-root\"]/section/main/article/div[2]/div[1]/div/form/div[1]/div/input').send_keys(Id)\n",
    "    driver.find_element_by_xpath('//*[@id=\"react-root\"]/section/main/article/div[2]/div[1]/div/form/div[2]/div/input').send_keys(Password)\n",
    "    driver.find_element_by_xpath('//*[@id=\"react-root\"]/section/main/article/div[2]/div[1]/div/form/span/button').click()\n",
    "    driver.find_element_by_xpath('//*[@id=\"react-root\"]/section/nav/div[2]/div/div/div[2]/input').send_keys(Keyword)\n",
    "    driver.find_element_by_xpath('//*[@id=\"react-root\"]/section/nav/div[2]/div/div/div[2]/div[2]/div[2]/div/a[%s]'%m).click()\n",
    "    element = driver.find_element_by_xpath('//*[@id=\"react-root\"]/section/main/article/header/span/span').text\n",
    "    element = str_to_int(element)\n",
    "    driver.find_element_by_xpath('//*[@id=\"react-root\"]/section/main/article/div[1]/div/div[1]/div[1]/a/div').click()\n",
    "    \n",
    "    \n",
    "    # driver.find_element_by_xpath('//*[@id=\"react-root\"]/section/main/article/div[2]/a').click() \n",
    "    driver.find_element_by_xpath('/html/body/div[3]/div/div[2]/div/div[1]/div/div/a').click()\n",
    "    \n",
    "    for i in range(element):\n",
    "        try:\n",
    "            driver.find_element_by_xpath('/html/body/div[3]/div/div[2]/div/div[1]/div/div/a[2]').click()\n",
    "            time.sleep(0.3)\n",
    "        except Exception as e:\n",
    "            pass\n",
    "        \n",
    "    html = driver.page_source\n",
    "    bs0bj = BeautifulSoup(html, \"html.parser\")\n",
    "    a_list = bs0bj.findAll(\"div\", {\"class\":\"_4rbun\"})    \n",
    "    for name in a_list:\n",
    "        time.sleep(0.5)\n",
    "        imagedownload(name)\n"
   ]
  },
  {
   "cell_type": "code",
   "execution_count": 74,
   "metadata": {
    "collapsed": false
   },
   "outputs": [
    {
     "name": "stdout",
     "output_type": "stream",
     "text": [
      "403.84800005\n"
     ]
    }
   ],
   "source": [
    "get_image_instagram(\"ID\",\"pw\",\"#농구\",1)"
   ]
  },
  {
   "cell_type": "code",
   "execution_count": null,
   "metadata": {
    "collapsed": true
   },
   "outputs": [],
   "source": []
  }
 ],
 "metadata": {
  "kernelspec": {
   "display_name": "Python 2",
   "language": "python",
   "name": "python2"
  },
  "language_info": {
   "codemirror_mode": {
    "name": "ipython",
    "version": 2
   },
   "file_extension": ".py",
   "mimetype": "text/x-python",
   "name": "python",
   "nbconvert_exporter": "python",
   "pygments_lexer": "ipython2",
   "version": "2.7.13"
  }
 },
 "nbformat": 4,
 "nbformat_minor": 2
}
