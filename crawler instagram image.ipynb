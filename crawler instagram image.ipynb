{
 "cells": [
  {
   "cell_type": "code",
   "execution_count": 1,
   "metadata": {
    "collapsed": true
   },
   "outputs": [],
   "source": [
    "import urllib2\n",
    "from urlparse import urlsplit\n",
    "from os.path import basename\n",
    "from bs4 import BeautifulSoup\n",
    "from selenium import webdriver\n",
    "import base64\n",
    "import time \n",
    "from selenium.webdriver.common.keys import Keys"
   ]
  },
  {
   "cell_type": "code",
   "execution_count": 2,
   "metadata": {
    "collapsed": true
   },
   "outputs": [],
   "source": [
    "def imagedownload(x):\n",
    "    url = x.findAll('img')\n",
    "\n",
    "    for imgTag in url:\n",
    "        imgUrl = imgTag['src']\n",
    "\n",
    "        try:\n",
    "            imgData = urllib2.urlopen(imgUrl).read()\n",
    "            fileName = basename(urlsplit(imgUrl)[2])\n",
    "            output = open(\"C:\\Users\\hapro\\Desktop\\crawler\\%s\"%fileName,'wb') # 저장장소 설정 및 filename\n",
    "            output.write(imgData)\n",
    "            output.close()\n",
    "\n",
    "        except Exception,e:\n",
    "            print e\n",
    "        pass"
   ]
  },
  {
   "cell_type": "code",
   "execution_count": 3,
   "metadata": {
    "collapsed": false
   },
   "outputs": [],
   "source": [
    "# Id, Password, Keyword, 검색 후 몇번째 ,반복횟수 입력 \n",
    "\n",
    "def get_image_instagram(Id,Password,Keyword,m,n):\n",
    "\n",
    "    Keyword = Keyword.decode('utf-8')\n",
    "    driver = webdriver.Chrome(executable_path=r\"C:\\Users\\hapro\\Desktop\\crawler\\chromedriver_win32\\chromedriver.exe\")\n",
    "    driver.implicitly_wait(3)\n",
    "    driver.get('https://www.instagram.com/')\n",
    "    driver.find_element_by_xpath('//*[@id=\"react-root\"]/section/main/article/div[2]/div[2]/p/a').click()\n",
    "    driver.find_element_by_xpath('//*[@id=\"react-root\"]/section/main/article/div[2]/div[1]/div/form/div[1]/div/input').send_keys(Id)\n",
    "    driver.find_element_by_xpath('//*[@id=\"react-root\"]/section/main/article/div[2]/div[1]/div/form/div[2]/div/input').send_keys(Password)\n",
    "    driver.find_element_by_xpath('//*[@id=\"react-root\"]/section/main/article/div[2]/div[1]/div/form/span/button').click()\n",
    "    driver.find_element_by_xpath('//*[@id=\"react-root\"]/section/nav/div[2]/div/div/div[2]/input').send_keys(Keyword)\n",
    "    driver.find_element_by_xpath('//*[@id=\"react-root\"]/section/nav/div[2]/div/div/div[2]/div[2]/div[2]/div/a[%s]'%m).click()\n",
    "    \n",
    "    driver.find_element_by_xpath('//*[@id=\"react-root\"]/section/main/article/div[2]/a').click() \n",
    "    elm = driver.find_element_by_tag_name(\"html\")\n",
    "    \n",
    "    \n",
    "    for i in range(n):\n",
    "        try:\n",
    "            elm.send_keys(Keys.END)\n",
    "            \n",
    "            time.sleep(1)\n",
    "    \n",
    "        except Exception as e:\n",
    "            pass\n",
    "\n",
    "    html = driver.page_source\n",
    "    bs0bj = BeautifulSoup(html, \"html.parser\")\n",
    "    a_list = bs0bj.findAll(\"div\", {\"class\":\"_myci9\"})\n",
    "    \n",
    "    for name in a_list:\n",
    "        time.sleep(1)\n",
    "        imagedownload(name)"
   ]
  },
  {
   "cell_type": "markdown",
   "metadata": {
    "collapsed": true
   },
   "source": [
    "get_image_instagram(ID,Password,keyword,2,10)\n",
    "\n",
    "keyword값은 이상하게 #경리 같은것만 가능 / 그냥 검색은 더 읽어들이기가 구현(x)"
   ]
  },
  {
   "cell_type": "code",
   "execution_count": null,
   "metadata": {
    "collapsed": true
   },
   "outputs": [],
   "source": [
    "get_image_instagram(\"ID\",\"Password\",\"#keyword\",2,10)"
   ]
  }
 ],
 "metadata": {
  "kernelspec": {
   "display_name": "Python 2",
   "language": "python",
   "name": "python2"
  },
  "language_info": {
   "codemirror_mode": {
    "name": "ipython",
    "version": 2
   },
   "file_extension": ".py",
   "mimetype": "text/x-python",
   "name": "python",
   "nbconvert_exporter": "python",
   "pygments_lexer": "ipython2",
   "version": "2.7.13"
  }
 },
 "nbformat": 4,
 "nbformat_minor": 2
}
